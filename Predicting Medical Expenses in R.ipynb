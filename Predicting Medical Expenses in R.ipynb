{
 "cells": [
  {
   "cell_type": "code",
   "execution_count": null,
   "id": "443aec64",
   "metadata": {},
   "outputs": [],
   "source": []
  },
  {
   "cell_type": "code",
   "execution_count": 45,
   "id": "3c8bf8d6",
   "metadata": {},
   "outputs": [],
   "source": [
    "library(ggplot2)\n",
    "library(psych)\n",
    "library(lmtest)\n",
    "library(DAAG)\n",
    "library(MASS)\n",
    "library(PerformanceAnalytics)\n",
    "library(olsrr)\n",
    "library(sandwich)\n",
    "library(vars)\n",
    "library(nortest)\n",
    "library(caret)\n",
    "library(olsrr)"
   ]
  },
  {
   "cell_type": "code",
   "execution_count": 46,
   "id": "c87513f0",
   "metadata": {},
   "outputs": [
    {
     "data": {
      "text/html": [
       "<table>\n",
       "<thead><tr><th scope=col>age</th><th scope=col>sex</th><th scope=col>bmi</th><th scope=col>children</th><th scope=col>smoker</th><th scope=col>region</th><th scope=col>charges</th></tr></thead>\n",
       "<tbody>\n",
       "\t<tr><td>19       </td><td>female   </td><td>27.900   </td><td>0        </td><td>yes      </td><td>southwest</td><td>16884.924</td></tr>\n",
       "\t<tr><td>18       </td><td>male     </td><td>33.770   </td><td>1        </td><td>no       </td><td>southeast</td><td> 1725.552</td></tr>\n",
       "\t<tr><td>28       </td><td>male     </td><td>33.000   </td><td>3        </td><td>no       </td><td>southeast</td><td> 4449.462</td></tr>\n",
       "\t<tr><td>33       </td><td>male     </td><td>22.705   </td><td>0        </td><td>no       </td><td>northwest</td><td>21984.471</td></tr>\n",
       "\t<tr><td>32       </td><td>male     </td><td>28.880   </td><td>0        </td><td>no       </td><td>northwest</td><td> 3866.855</td></tr>\n",
       "\t<tr><td>31       </td><td>female   </td><td>25.740   </td><td>0        </td><td>no       </td><td>southeast</td><td> 3756.622</td></tr>\n",
       "</tbody>\n",
       "</table>\n"
      ],
      "text/latex": [
       "\\begin{tabular}{r|lllllll}\n",
       " age & sex & bmi & children & smoker & region & charges\\\\\n",
       "\\hline\n",
       "\t 19        & female    & 27.900    & 0         & yes       & southwest & 16884.924\\\\\n",
       "\t 18        & male      & 33.770    & 1         & no        & southeast &  1725.552\\\\\n",
       "\t 28        & male      & 33.000    & 3         & no        & southeast &  4449.462\\\\\n",
       "\t 33        & male      & 22.705    & 0         & no        & northwest & 21984.471\\\\\n",
       "\t 32        & male      & 28.880    & 0         & no        & northwest &  3866.855\\\\\n",
       "\t 31        & female    & 25.740    & 0         & no        & southeast &  3756.622\\\\\n",
       "\\end{tabular}\n"
      ],
      "text/markdown": [
       "\n",
       "| age | sex | bmi | children | smoker | region | charges |\n",
       "|---|---|---|---|---|---|---|\n",
       "| 19        | female    | 27.900    | 0         | yes       | southwest | 16884.924 |\n",
       "| 18        | male      | 33.770    | 1         | no        | southeast |  1725.552 |\n",
       "| 28        | male      | 33.000    | 3         | no        | southeast |  4449.462 |\n",
       "| 33        | male      | 22.705    | 0         | no        | northwest | 21984.471 |\n",
       "| 32        | male      | 28.880    | 0         | no        | northwest |  3866.855 |\n",
       "| 31        | female    | 25.740    | 0         | no        | southeast |  3756.622 |\n",
       "\n"
      ],
      "text/plain": [
       "  age sex    bmi    children smoker region    charges  \n",
       "1 19  female 27.900 0        yes    southwest 16884.924\n",
       "2 18  male   33.770 1        no     southeast  1725.552\n",
       "3 28  male   33.000 3        no     southeast  4449.462\n",
       "4 33  male   22.705 0        no     northwest 21984.471\n",
       "5 32  male   28.880 0        no     northwest  3866.855\n",
       "6 31  female 25.740 0        no     southeast  3756.622"
      ]
     },
     "metadata": {},
     "output_type": "display_data"
    },
    {
     "name": "stdout",
     "output_type": "stream",
     "text": [
      "'data.frame':\t1338 obs. of  7 variables:\n",
      " $ age     : int  19 18 28 33 32 31 46 37 37 60 ...\n",
      " $ sex     : Factor w/ 2 levels \"female\",\"male\": 1 2 2 2 2 1 1 1 2 1 ...\n",
      " $ bmi     : num  27.9 33.8 33 22.7 28.9 ...\n",
      " $ children: int  0 1 3 0 0 0 1 3 2 0 ...\n",
      " $ smoker  : Factor w/ 2 levels \"no\",\"yes\": 2 1 1 1 1 1 1 1 1 1 ...\n",
      " $ region  : Factor w/ 4 levels \"northeast\",\"northwest\",..: 4 3 3 2 2 3 3 2 1 2 ...\n",
      " $ charges : num  16885 1726 4449 21984 3867 ...\n"
     ]
    }
   ],
   "source": [
    "data = read.csv(\"Medical.csv\", header=T)\n",
    "head(data)\n",
    "str(data)"
   ]
  },
  {
   "cell_type": "code",
   "execution_count": 47,
   "id": "5968527e",
   "metadata": {},
   "outputs": [
    {
     "data": {
      "text/html": [
       "<dl class=dl-horizontal>\n",
       "\t<dt>age</dt>\n",
       "\t\t<dd>0</dd>\n",
       "\t<dt>sex</dt>\n",
       "\t\t<dd>0</dd>\n",
       "\t<dt>bmi</dt>\n",
       "\t\t<dd>0</dd>\n",
       "\t<dt>children</dt>\n",
       "\t\t<dd>0</dd>\n",
       "\t<dt>smoker</dt>\n",
       "\t\t<dd>0</dd>\n",
       "\t<dt>region</dt>\n",
       "\t\t<dd>0</dd>\n",
       "\t<dt>charges</dt>\n",
       "\t\t<dd>0</dd>\n",
       "</dl>\n"
      ],
      "text/latex": [
       "\\begin{description*}\n",
       "\\item[age] 0\n",
       "\\item[sex] 0\n",
       "\\item[bmi] 0\n",
       "\\item[children] 0\n",
       "\\item[smoker] 0\n",
       "\\item[region] 0\n",
       "\\item[charges] 0\n",
       "\\end{description*}\n"
      ],
      "text/markdown": [
       "age\n",
       ":   0sex\n",
       ":   0bmi\n",
       ":   0children\n",
       ":   0smoker\n",
       ":   0region\n",
       ":   0charges\n",
       ":   0\n",
       "\n"
      ],
      "text/plain": [
       "     age      sex      bmi children   smoker   region  charges \n",
       "       0        0        0        0        0        0        0 "
      ]
     },
     "metadata": {},
     "output_type": "display_data"
    }
   ],
   "source": [
    "# Checking for the missing values : No missing values found\n",
    "\n",
    "sapply(data, function(x) sum(is.na(x)))"
   ]
  },
  {
   "cell_type": "code",
   "execution_count": 48,
   "id": "046e5b96",
   "metadata": {},
   "outputs": [
    {
     "data": {
      "text/html": [
       "<dl class=dl-horizontal>\n",
       "\t<dt>0%</dt>\n",
       "\t\t<dd>1121.8739</dd>\n",
       "\t<dt>5%</dt>\n",
       "\t\t<dd>1757.7534</dd>\n",
       "\t<dt>10%</dt>\n",
       "\t\t<dd>2346.533615</dd>\n",
       "\t<dt>25%</dt>\n",
       "\t\t<dd>4740.28715</dd>\n",
       "\t<dt>50%</dt>\n",
       "\t\t<dd>9382.033</dd>\n",
       "\t<dt>75%</dt>\n",
       "\t\t<dd>16639.912515</dd>\n",
       "\t<dt>90%</dt>\n",
       "\t\t<dd>34831.7197</dd>\n",
       "\t<dt>95%</dt>\n",
       "\t\t<dd>41181.8277874999</dd>\n",
       "\t<dt>99%</dt>\n",
       "\t\t<dd>48537.480726</dd>\n",
       "\t<dt>99.5%</dt>\n",
       "\t\t<dd>50086.9848731001</dd>\n",
       "\t<dt>100%</dt>\n",
       "\t\t<dd>63770.42801</dd>\n",
       "</dl>\n"
      ],
      "text/latex": [
       "\\begin{description*}\n",
       "\\item[0\\textbackslash{}\\%] 1121.8739\n",
       "\\item[5\\textbackslash{}\\%] 1757.7534\n",
       "\\item[10\\textbackslash{}\\%] 2346.533615\n",
       "\\item[25\\textbackslash{}\\%] 4740.28715\n",
       "\\item[50\\textbackslash{}\\%] 9382.033\n",
       "\\item[75\\textbackslash{}\\%] 16639.912515\n",
       "\\item[90\\textbackslash{}\\%] 34831.7197\n",
       "\\item[95\\textbackslash{}\\%] 41181.8277874999\n",
       "\\item[99\\textbackslash{}\\%] 48537.480726\n",
       "\\item[99.5\\textbackslash{}\\%] 50086.9848731001\n",
       "\\item[100\\textbackslash{}\\%] 63770.42801\n",
       "\\end{description*}\n"
      ],
      "text/markdown": [
       "0%\n",
       ":   1121.87395%\n",
       ":   1757.753410%\n",
       ":   2346.53361525%\n",
       ":   4740.2871550%\n",
       ":   9382.03375%\n",
       ":   16639.91251590%\n",
       ":   34831.719795%\n",
       ":   41181.827787499999%\n",
       ":   48537.48072699.5%\n",
       ":   50086.9848731001100%\n",
       ":   63770.42801\n",
       "\n"
      ],
      "text/plain": [
       "       0%        5%       10%       25%       50%       75%       90%       95% \n",
       " 1121.874  1757.753  2346.534  4740.287  9382.033 16639.913 34831.720 41181.828 \n",
       "      99%     99.5%      100% \n",
       "48537.481 50086.985 63770.428 "
      ]
     },
     "metadata": {},
     "output_type": "display_data"
    },
    {
     "data": {
      "image/png": "[encoded data removed]",
      "text/plain": [
       "plot without title"
      ]
     },
     "metadata": {},
     "output_type": "display_data"
    }
   ],
   "source": [
    "# Checking for the presence of Outliers in Dependent variable and removing them\n",
    "\n",
    "boxplot(data$charges)\n",
    "quantile(data$charges, c(0,0.05,0.1,0.25,0.5,0.75,0.90,0.95,0.99,0.995,1))"
   ]
  },
  {
   "cell_type": "code",
   "execution_count": 49,
   "id": "e1905af2",
   "metadata": {},
   "outputs": [
    {
     "data": {
      "image/png": "[encoded data removed]",
      "text/plain": [
       "plot without title"
      ]
     },
     "metadata": {},
     "output_type": "display_data"
    }
   ],
   "source": [
    "\n",
    "data <- data[data$charges <30000 , ]\n",
    "boxplot(data$charges)\n"
   ]
  },
  {
   "cell_type": "code",
   "execution_count": 50,
   "id": "3dd5283c",
   "metadata": {},
   "outputs": [
    {
     "data": {
      "image/png": "[encoded data removed]",
      "text/plain": [
       "plot without title"
      ]
     },
     "metadata": {},
     "output_type": "display_data"
    }
   ],
   "source": [
    "# Checking the presence of Outliers in other independent variables and removing them\n",
    "boxplot(data$age)"
   ]
  },
  {
   "cell_type": "code",
   "execution_count": 51,
   "id": "37d99fc6",
   "metadata": {},
   "outputs": [
    {
     "data": {
      "text/html": [
       "1176"
      ],
      "text/latex": [
       "1176"
      ],
      "text/markdown": [
       "1176"
      ],
      "text/plain": [
       "[1] 1176"
      ]
     },
     "metadata": {},
     "output_type": "display_data"
    },
    {
     "data": {
      "text/html": [
       "<ol class=list-inline>\n",
       "\t<li>'age'</li>\n",
       "\t<li>'sex'</li>\n",
       "\t<li>'bmi'</li>\n",
       "\t<li>'children'</li>\n",
       "\t<li>'smoker'</li>\n",
       "\t<li>'region'</li>\n",
       "\t<li>'charges'</li>\n",
       "</ol>\n"
      ],
      "text/latex": [
       "\\begin{enumerate*}\n",
       "\\item 'age'\n",
       "\\item 'sex'\n",
       "\\item 'bmi'\n",
       "\\item 'children'\n",
       "\\item 'smoker'\n",
       "\\item 'region'\n",
       "\\item 'charges'\n",
       "\\end{enumerate*}\n"
      ],
      "text/markdown": [
       "1. 'age'\n",
       "2. 'sex'\n",
       "3. 'bmi'\n",
       "4. 'children'\n",
       "5. 'smoker'\n",
       "6. 'region'\n",
       "7. 'charges'\n",
       "\n",
       "\n"
      ],
      "text/plain": [
       "[1] \"age\"      \"sex\"      \"bmi\"      \"children\" \"smoker\"   \"region\"   \"charges\" "
      ]
     },
     "metadata": {},
     "output_type": "display_data"
    }
   ],
   "source": [
    "nrow(data)\n",
    "names(data)"
   ]
  },
  {
   "cell_type": "code",
   "execution_count": null,
   "id": "e6c7f5d9",
   "metadata": {},
   "outputs": [],
   "source": []
  },
  {
   "cell_type": "code",
   "execution_count": 63,
   "id": "baad801c",
   "metadata": {},
   "outputs": [
    {
     "data": {
      "image/png": "[encoded data removed]",
      "text/plain": [
       "plot without title"
      ]
     },
     "metadata": {},
     "output_type": "display_data"
    }
   ],
   "source": [
    "pairs.panels(data, method='pearson')"
   ]
  },
  {
   "cell_type": "code",
   "execution_count": 62,
   "id": "9c6dbccf",
   "metadata": {},
   "outputs": [
    {
     "data": {
      "image/png": "[encoded data removed]",
      "text/plain": [
       "plot without title"
      ]
     },
     "metadata": {},
     "output_type": "display_data"
    }
   ],
   "source": [
    "pairs.panels(data, method='spearman')"
   ]
  },
  {
   "cell_type": "code",
   "execution_count": 53,
   "id": "40f9d270",
   "metadata": {},
   "outputs": [
    {
     "data": {
      "text/plain": [
       "\n",
       "Call:\n",
       "lm(formula = charges ~ ., data = data)\n",
       "\n",
       "Residuals:\n",
       "    Min      1Q  Median      3Q     Max \n",
       "-4148.5 -1615.7 -1145.2  -445.7 24624.8 \n",
       "\n",
       "Coefficients:\n",
       "                 Estimate Std. Error t value Pr(>|t|)    \n",
       "(Intercept)     -2153.131    718.806  -2.995 0.002798 ** \n",
       "age               249.165      8.459  29.456  < 2e-16 ***\n",
       "sexmale          -493.881    234.685  -2.104 0.035553 *  \n",
       "bmi                29.557     21.108   1.400 0.161685    \n",
       "children          458.869     96.632   4.749  2.3e-06 ***\n",
       "smokeryes       12852.975    400.361  32.103  < 2e-16 ***\n",
       "regionnorthwest  -401.945    332.429  -1.209 0.226863    \n",
       "regionsoutheast  -739.345    340.603  -2.171 0.030156 *  \n",
       "regionsouthwest -1145.786    336.194  -3.408 0.000676 ***\n",
       "---\n",
       "Signif. codes:  0 '***' 0.001 '**' 0.01 '*' 0.05 '.' 0.1 ' ' 1\n",
       "\n",
       "Residual standard error: 4019 on 1167 degrees of freedom\n",
       "Multiple R-squared:  0.6279,\tAdjusted R-squared:  0.6254 \n",
       "F-statistic: 246.2 on 8 and 1167 DF,  p-value: < 2.2e-16\n"
      ]
     },
     "metadata": {},
     "output_type": "display_data"
    }
   ],
   "source": [
    "# Iteration 1\n",
    "\n",
    "fit = lm(charges ~ . , data= data)\n",
    "summary(fit)"
   ]
  },
  {
   "cell_type": "code",
   "execution_count": 68,
   "id": "6ff01e20",
   "metadata": {},
   "outputs": [
    {
     "data": {
      "text/plain": [
       "\n",
       "Call:\n",
       "lm(formula = charges ~ age + children + I(smoker == \"yes\") + \n",
       "    I(smoker == \"no\"), data = data)\n",
       "\n",
       "Residuals:\n",
       "    Min      1Q  Median      3Q     Max \n",
       "-4347.8 -1641.6 -1160.2  -387.3 24378.0 \n",
       "\n",
       "Coefficients: (1 not defined because of singularities)\n",
       "                        Estimate Std. Error t value Pr(>|t|)    \n",
       "(Intercept)            -2116.711    366.343  -5.778 9.68e-09 ***\n",
       "age                      250.742      8.435  29.727  < 2e-16 ***\n",
       "children                 448.125     97.080   4.616 4.34e-06 ***\n",
       "I(smoker == \"yes\")TRUE 12756.990    386.685  32.991  < 2e-16 ***\n",
       "I(smoker == \"no\")TRUE         NA         NA      NA       NA    \n",
       "---\n",
       "Signif. codes:  0 '***' 0.001 '**' 0.01 '*' 0.05 '.' 0.1 ' ' 1\n",
       "\n",
       "Residual standard error: 4041 on 1172 degrees of freedom\n",
       "Multiple R-squared:  0.6223,\tAdjusted R-squared:  0.6213 \n",
       "F-statistic: 643.6 on 3 and 1172 DF,  p-value: < 2.2e-16\n"
      ]
     },
     "metadata": {},
     "output_type": "display_data"
    }
   ],
   "source": [
    "# Iteraion 2\n",
    "fit = lm(charges ~ age +children + I(smoker==\"yes\") +I(smoker==\"no\"), data= data)\n",
    "summary(fit)"
   ]
  },
  {
   "cell_type": "code",
   "execution_count": 69,
   "id": "7d4b5a95",
   "metadata": {},
   "outputs": [
    {
     "data": {
      "text/html": [
       "<table>\n",
       "<thead><tr><th></th><th scope=col>2.5 %</th><th scope=col>97.5 %</th></tr></thead>\n",
       "<tbody>\n",
       "\t<tr><th scope=row>(Intercept)</th><td>-2835.4720</td><td>-1397.9506</td></tr>\n",
       "\t<tr><th scope=row>age</th><td>  234.1931</td><td>  267.2915</td></tr>\n",
       "\t<tr><th scope=row>children</th><td>  257.6557</td><td>  638.5947</td></tr>\n",
       "\t<tr><th scope=row>I(smoker == \"yes\")TRUE</th><td>11998.3167</td><td>13515.6628</td></tr>\n",
       "\t<tr><th scope=row>I(smoker == \"no\")TRUE</th><td>        NA</td><td>        NA</td></tr>\n",
       "</tbody>\n",
       "</table>\n"
      ],
      "text/latex": [
       "\\begin{tabular}{r|ll}\n",
       "  & 2.5 \\% & 97.5 \\%\\\\\n",
       "\\hline\n",
       "\t(Intercept) & -2835.4720 & -1397.9506\\\\\n",
       "\tage &   234.1931 &   267.2915\\\\\n",
       "\tchildren &   257.6557 &   638.5947\\\\\n",
       "\tI(smoker == \"yes\")TRUE & 11998.3167 & 13515.6628\\\\\n",
       "\tI(smoker == \"no\")TRUE &         NA &         NA\\\\\n",
       "\\end{tabular}\n"
      ],
      "text/markdown": [
       "\n",
       "| <!--/--> | 2.5 % | 97.5 % |\n",
       "|---|---|---|\n",
       "| (Intercept) | -2835.4720 | -1397.9506 |\n",
       "| age |   234.1931 |   267.2915 |\n",
       "| children |   257.6557 |   638.5947 |\n",
       "| I(smoker == \"yes\")TRUE | 11998.3167 | 13515.6628 |\n",
       "| I(smoker == \"no\")TRUE |         NA |         NA |\n",
       "\n"
      ],
      "text/plain": [
       "                       2.5 %      97.5 %    \n",
       "(Intercept)            -2835.4720 -1397.9506\n",
       "age                      234.1931   267.2915\n",
       "children                 257.6557   638.5947\n",
       "I(smoker == \"yes\")TRUE 11998.3167 13515.6628\n",
       "I(smoker == \"no\")TRUE          NA         NA"
      ]
     },
     "metadata": {},
     "output_type": "display_data"
    }
   ],
   "source": [
    "confint(fit)"
   ]
  },
  {
   "cell_type": "code",
   "execution_count": 70,
   "id": "c6518ae0",
   "metadata": {},
   "outputs": [
    {
     "data": {
      "text/plain": [
       "\n",
       "Call:\n",
       "lm(formula = charges ~ age + children + I(smoker == \"yes\"), data = data)\n",
       "\n",
       "Residuals:\n",
       "    Min      1Q  Median      3Q     Max \n",
       "-4347.8 -1641.6 -1160.2  -387.3 24378.0 \n",
       "\n",
       "Coefficients:\n",
       "                        Estimate Std. Error t value Pr(>|t|)    \n",
       "(Intercept)            -2116.711    366.343  -5.778 9.68e-09 ***\n",
       "age                      250.742      8.435  29.727  < 2e-16 ***\n",
       "children                 448.125     97.080   4.616 4.34e-06 ***\n",
       "I(smoker == \"yes\")TRUE 12756.990    386.685  32.991  < 2e-16 ***\n",
       "---\n",
       "Signif. codes:  0 '***' 0.001 '**' 0.01 '*' 0.05 '.' 0.1 ' ' 1\n",
       "\n",
       "Residual standard error: 4041 on 1172 degrees of freedom\n",
       "Multiple R-squared:  0.6223,\tAdjusted R-squared:  0.6213 \n",
       "F-statistic: 643.6 on 3 and 1172 DF,  p-value: < 2.2e-16\n"
      ]
     },
     "metadata": {},
     "output_type": "display_data"
    }
   ],
   "source": [
    "model <- stepAIC(fit, direction = \"both\", trace = F)\n",
    "summary(model)"
   ]
  },
  {
   "cell_type": "code",
   "execution_count": 71,
   "id": "8cd2c900",
   "metadata": {},
   "outputs": [
    {
     "data": {
      "text/html": [
       "<dl class=dl-horizontal>\n",
       "\t<dt>age</dt>\n",
       "\t\t<dd>1.0021157610094</dd>\n",
       "\t<dt>children</dt>\n",
       "\t\t<dd>1.00069695310147</dd>\n",
       "\t<dt>I(smoker == \"yes\")</dt>\n",
       "\t\t<dd>1.00145410748221</dd>\n",
       "</dl>\n"
      ],
      "text/latex": [
       "\\begin{description*}\n",
       "\\item[age] 1.0021157610094\n",
       "\\item[children] 1.00069695310147\n",
       "\\item[I(smoker == \"yes\")] 1.00145410748221\n",
       "\\end{description*}\n"
      ],
      "text/markdown": [
       "age\n",
       ":   1.0021157610094children\n",
       ":   1.00069695310147I(smoker == \"yes\")\n",
       ":   1.00145410748221\n",
       "\n"
      ],
      "text/plain": [
       "               age           children I(smoker == \"yes\") \n",
       "          1.002116           1.000697           1.001454 "
      ]
     },
     "metadata": {},
     "output_type": "display_data"
    }
   ],
   "source": [
    "# Checking the Assumptions :\n",
    "# checking Multicollinearity Assumption :\n",
    "vif(model)"
   ]
  },
  {
   "cell_type": "code",
   "execution_count": 72,
   "id": "99b8d200",
   "metadata": {},
   "outputs": [
    {
     "data": {
      "text/plain": [
       "\n",
       "\tAnderson-Darling normality test\n",
       "\n",
       "data:  resids\n",
       "A = 225.26, p-value < 2.2e-16\n"
      ]
     },
     "metadata": {},
     "output_type": "display_data"
    }
   ],
   "source": [
    "# checking Normality Assumption for Residuals:\n",
    "resids <- model$residuals\n",
    "ad.test(resids)"
   ]
  },
  {
   "cell_type": "code",
   "execution_count": 73,
   "id": "763cd0b0",
   "metadata": {},
   "outputs": [
    {
     "data": {
      "text/plain": [
       " lag Autocorrelation D-W Statistic p-value\n",
       "   1    -0.009530169      2.018409   0.858\n",
       " Alternative hypothesis: rho != 0"
      ]
     },
     "metadata": {},
     "output_type": "display_data"
    }
   ],
   "source": [
    "library(car)\n",
    "# checking Auto-Correlation Assumption :\n",
    "dwt(model)"
   ]
  },
  {
   "cell_type": "code",
   "execution_count": 74,
   "id": "0632a591",
   "metadata": {},
   "outputs": [
    {
     "data": {
      "text/plain": [
       "\n",
       "\tstudentized Breusch-Pagan test\n",
       "\n",
       "data:  model\n",
       "BP = 12.045, df = 3, p-value = 0.00723\n"
      ]
     },
     "metadata": {},
     "output_type": "display_data"
    }
   ],
   "source": [
    "# checking Homoscedasticity Assumption :\n",
    "# Breusch-Pagan test\n",
    "bptest(model)  \n"
   ]
  },
  {
   "cell_type": "code",
   "execution_count": 75,
   "id": "cbf83d2d",
   "metadata": {},
   "outputs": [
    {
     "data": {
      "image/png": "[encoded data removed]",
      "text/plain": [
       "Plot with title \"\""
      ]
     },
     "metadata": {},
     "output_type": "display_data"
    }
   ],
   "source": [
    "par(mfrow = c(2,2))\n",
    "plot(model)"
   ]
  },
  {
   "cell_type": "code",
   "execution_count": 77,
   "id": "ed2139d6",
   "metadata": {},
   "outputs": [],
   "source": [
    "# Get the predicted or fitted values\n",
    "data$pred <- fitted(model)"
   ]
  },
  {
   "cell_type": "code",
   "execution_count": 78,
   "id": "1812f784",
   "metadata": {},
   "outputs": [
    {
     "data": {
      "text/html": [
       "0.285203548001996"
      ],
      "text/latex": [
       "0.285203548001996"
      ],
      "text/markdown": [
       "0.285203548001996"
      ],
      "text/plain": [
       "[1] 0.2852035"
      ]
     },
     "metadata": {},
     "output_type": "display_data"
    }
   ],
   "source": [
    "\n",
    "# Calculating MAPE\n",
    "attach(data)\n",
    "(sum((abs(charges-pred))/charges))/nrow(data)"
   ]
  },
  {
   "cell_type": "markdown",
   "id": "49fd272c",
   "metadata": {},
   "source": [
    "### Suggested Approach\n",
    "1. Understand the variables in the data set and study about the Industry.\n",
    "2. Clean the data set.\n",
    "3. Divide the data set into two parts: - Development Sample & Validation Sample.\n",
    "4. Run Regression model.\n",
    "5. Check which variables are significant by looking at p values and business reasons\n",
    "6. Do different tests like multicollinearity test, Homoscedasticity test, Normality test, MAPE.\n",
    "\n",
    "### 1. Significant Variables:\n",
    "1. Age\n",
    "2. Smoker\n",
    "3. children\n"
   ]
  },
  {
   "cell_type": "code",
   "execution_count": null,
   "id": "21123908",
   "metadata": {},
   "outputs": [],
   "source": []
  }
 ],
 "metadata": {
  "kernelspec": {
   "display_name": "R",
   "language": "R",
   "name": "ir"
  },
  "language_info": {
   "codemirror_mode": "r",
   "file_extension": ".r",
   "mimetype": "text/x-r-source",
   "name": "R",
   "pygments_lexer": "r",
   "version": "3.6.1"
  }
 },
 "nbformat": 4,
 "nbformat_minor": 5
}
